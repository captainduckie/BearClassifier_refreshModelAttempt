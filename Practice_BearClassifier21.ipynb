{
 "cells": [
  {
   "cell_type": "code",
   "execution_count": 57,
   "metadata": {},
   "outputs": [
    {
     "data": {
      "text/plain": [
       "'C:\\\\Users\\\\sharo\\\\source\\\\repos\\\\fastai_Apps\\\\bears'"
      ]
     },
     "execution_count": 57,
     "metadata": {},
     "output_type": "execute_result"
    }
   ],
   "source": [
    "# import os\n",
    "# path = Path('bears')\n",
    "# os.path.abspath(path)"
   ]
  },
  {
   "cell_type": "code",
   "execution_count": 59,
   "metadata": {},
   "outputs": [],
   "source": [
    "# import os\n",
    "# key = os.environ.get('AZURE_SEARCH_KEY', '1afa7b4bdcd0457d8f700730b399e197')"
   ]
  },
  {
   "cell_type": "code",
   "execution_count": 62,
   "metadata": {},
   "outputs": [
    {
     "data": {
      "text/plain": [
       "(#10) [{'webSearchUrl': 'https://www.bing.com/images/search?view=detailv2&FORM=OIIRPO&q=teddy+bear&id=598C74D0C616DD57F6BD298B60C92935EE344C13&simid=608047221905299139', 'name': 'Teddy Bear | PrimoProducts', 'thumbnailUrl': 'https://tse2.mm.bing.net/th?id=OIP.DI49o-3u7doIqg8CVKFNYgHaHa&pid=Api', 'datePublished': '2020-03-28T19:49:00.0000000Z', 'isFamilyFriendly': True, 'contentUrl': 'https://primopromo.com.au/assets/Uploads/Teddy-Bear+Orange.jpg', 'hostPageUrl': 'https://primopromo.com.au/promotional-products/toys/animals/teddy-bear/', 'contentSize': '196818 B', 'encodingFormat': 'jpeg', 'hostPageDisplayUrl': 'https://primopromo.com.au/promotional-products/toys/animals/teddy-bear', 'width': 1500, 'height': 1500, 'hostPageDiscoveredDate': '2018-12-24T00:00:00.0000000Z', 'thumbnail': {'width': 474, 'height': 474}, 'imageInsightsToken': 'ccid_DI49o+3u*cp_A77BCF2C5A07C0AF061248E005E34D6A*mid_598C74D0C616DD57F6BD298B60C92935EE344C13*simid_608047221905299139*thid_OIP.DI49o-3u7doIqg8CVKFNYgHaHa', 'insightsMetadata': {'pagesIncludingCount': 9, 'availableSizesCount': 5}, 'imageId': '598C74D0C616DD57F6BD298B60C92935EE344C13', 'accentColor': 'B92B12'},{'webSearchUrl': 'https://www.bing.com/images/search?view=detailv2&FORM=OIIRPO&q=teddy+bear&id=E86695F35FF2078A22AF412079FAE5DB9DF51B35&simid=607998186267363457', 'name': 'Cuddly Mumbles Bracken Teddy Bear MM01 £ 9.89', 'thumbnailUrl': 'https://tse2.mm.bing.net/th?id=OIP.M0w9qHanGfIwvqE5QXwQNAHaHa&pid=Api', 'datePublished': '2021-08-18T03:34:00.0000000Z', 'isFamilyFriendly': True, 'contentUrl': 'https://www.kentishembroidery.co.uk/133/mm01-cuddly-mumbles-bracken-teddy-bear-989.jpg', 'hostPageUrl': 'https://www.kentishembroidery.co.uk/home/19028-mm01-cuddly-mumbles-bracken-teddy-bear-989.html', 'contentSize': '280798 B', 'encodingFormat': 'jpeg', 'hostPageDisplayUrl': 'https://www.kentishembroidery.co.uk/home/19028-mm01-cuddly-mumbles-bracken-teddy-bear...', 'width': 1500, 'height': 1500, 'hostPageDiscoveredDate': '2018-12-01T00:00:00.0000000Z', 'thumbnail': {'width': 474, 'height': 474}, 'imageInsightsToken': 'ccid_M0w9qHan*cp_1AB238CFC00F300A30B41C7C66F675CA*mid_E86695F35FF2078A22AF412079FAE5DB9DF51B35*simid_607998186267363457*thid_OIP.M0w9qHanGfIwvqE5QXwQNAHaHa', 'insightsMetadata': {'shoppingSourcesCount': 1, 'recipeSourcesCount': 0, 'aggregateOffer': {'name': 'Mumbles Bracken Plush Teddy Bear Childrens Soft Toy (rw855)', 'priceCurrency': 'USD', 'lowPrice': 18.45, 'offerCount': 1}, 'pagesIncludingCount': 12, 'availableSizesCount': 9}, 'imageId': 'E86695F35FF2078A22AF412079FAE5DB9DF51B35', 'accentColor': '0D456B'},{'webSearchUrl': 'https://www.bing.com/images/search?view=detailv2&FORM=OIIRPO&q=teddy+bear&id=6F0C38CDD53C1002D40925197543A0448393A00F&simid=608022981111999802', 'name': 'Steiff British Collectors Bear 2019 | Teddy Bears', 'thumbnailUrl': 'https://tse4.mm.bing.net/th?id=OIP.9akn-QNusaSxkHkmRKo5PAHaJ4&pid=Api', 'datePublished': '2020-06-15T21:57:00.0000000Z', 'isFamilyFriendly': True, 'contentUrl': 'https://teddybears.co.uk/wp-content/uploads/2019/02/uk-2019-2736x3648.jpg', 'hostPageUrl': 'https://teddybears.co.uk/product/new-spring-2019-british-collectors-bear-2019/', 'contentSize': '1025652 B', 'encodingFormat': 'jpeg', 'hostPageDisplayUrl': 'https://teddybears.co.uk/product/new-spring-2019-british-collectors-bear-2019', 'width': 2736, 'height': 3648, 'hostPageDiscoveredDate': '2019-02-17T00:00:00.0000000Z', 'thumbnail': {'width': 474, 'height': 632}, 'imageInsightsToken': 'ccid_9akn+QNu*cp_E91AC2F4631B103DA1C32359A878C006*mid_6F0C38CDD53C1002D40925197543A0448393A00F*simid_608022981111999802*thid_OIP.9akn-QNusaSxkHkmRKo5PAHaJ4', 'insightsMetadata': {'pagesIncludingCount': 5, 'availableSizesCount': 7}, 'imageId': '6F0C38CDD53C1002D40925197543A0448393A00F', 'accentColor': '39200C'},{'webSearchUrl': 'https://www.bing.com/images/search?view=detailv2&FORM=OIIRPO&q=teddy+bear&id=A14EB9F834CB5432BC30756938CB05BE8A0FB7A4&simid=608001995903866507', 'name': 'Big Brown Teddy Bear | 160cm | Buy Now ...', 'thumbnailUrl': 'https://tse3.mm.bing.net/th?id=OIP.QL1nQU68vkigUSMHB7zHMQHaJ4&pid=Api', 'datePublished': '2019-07-07T16:42:00.0000000Z', 'isFamilyFriendly': True, 'contentUrl': 'https://www.teddybearaustralia.com.au/wp-content/uploads/2018/09/FullSizeRender-6.jpg', 'hostPageUrl': 'https://www.teddybearaustralia.com.au/shop/big-teddy-bear-160cm/', 'contentSize': '1377019 B', 'encodingFormat': 'jpeg', 'hostPageDisplayUrl': 'https://www.teddybearaustralia.com.au/shop/big-teddy-bear-160cm', 'width': 1512, 'height': 2016, 'hostPageDiscoveredDate': '2019-03-13T00:00:00.0000000Z', 'thumbnail': {'width': 474, 'height': 632}, 'imageInsightsToken': 'ccid_QL1nQU68*cp_85E9841D603DE962B84B1E372BE8D614*mid_A14EB9F834CB5432BC30756938CB05BE8A0FB7A4*simid_608001995903866507*thid_OIP.QL1nQU68vkigUSMHB7zHMQHaJ4', 'insightsMetadata': {'shoppingSourcesCount': 0, 'recipeSourcesCount': 0, 'pagesIncludingCount': 3, 'availableSizesCount': 2}, 'imageId': 'A14EB9F834CB5432BC30756938CB05BE8A0FB7A4', 'accentColor': 'C1810A'},{'webSearchUrl': 'https://www.bing.com/images/search?view=detailv2&FORM=OIIRPO&q=teddy+bear&id=B46AB107F5FF097337EB79542181F0C9D13A0B8D&simid=607995119663914431', 'name': 'WOWMAX 6 Foot Giant Huge Life Size Teddy Bear Daney Cuddly ...', 'thumbnailUrl': 'https://tse4.mm.bing.net/th?id=OIP.Nl7xwzJZXoAL9BugpE3-bwHaHa&pid=Api', 'datePublished': '2020-06-25T07:26:00.0000000Z', 'isFamilyFriendly': True, 'contentUrl': 'https://i5.walmartimages.com/asr/cd0a9a29-d0d5-43d1-a53d-3061ce65e09e_1.4b0434a41ddbb676387a775b194276f6.jpeg', 'hostPageUrl': 'https://www.walmart.com/ip/WOWMAX-6-Foot-Giant-Huge-Life-Size-Teddy-Bear-Daney-Cuddly-Stuffed-Plush-Animals-Teddy-Bear-Toy-Doll-for-Birthday-Christmas-Brown-72-Inches/728284116?wmlspartner=wlpa&selectedSellerId=12972', 'contentSize': '730428 B', 'encodingFormat': 'jpeg', 'hostPageDisplayUrl': 'https://www.walmart.com/ip/WOWMAX-6-Foot-Giant-Huge-Life-Size-Teddy-Bear-Daney-Cuddly...', 'width': 2000, 'height': 2000, 'hostPageFavIconUrl': 'https://www.bing.com/th?id=ODF.P6N5NQ9LMJRcZdDfIZbtiA&pid=Api', 'hostPageDomainFriendlyName': 'Walmart', 'hostPageDiscoveredDate': '2019-04-25T00:00:00.0000000Z', 'thumbnail': {'width': 474, 'height': 474}, 'imageInsightsToken': 'ccid_Nl7xwzJZ*cp_7C8514A196B01C04BCED92567CEB6A10*mid_B46AB107F5FF097337EB79542181F0C9D13A0B8D*simid_607995119663914431*thid_OIP.Nl7xwzJZXoAL9BugpE3-bwHaHa', 'insightsMetadata': {'pagesIncludingCount': 4, 'availableSizesCount': 4}, 'imageId': 'B46AB107F5FF097337EB79542181F0C9D13A0B8D', 'accentColor': '791E28'},{'webSearchUrl': 'https://www.bing.com/images/search?view=detailv2&FORM=OIIRPO&q=teddy+bear&id=9CD3AD35BFBFE40EF90A8AB74809B38BB85A241A&simid=608050632113280367', 'name': 'How to Celebrate #NationalTeddyBearDay with a Teddy Bear ...', 'thumbnailUrl': 'https://tse3.mm.bing.net/th?id=OIP.FL4vO5dEk70MBdq9US9ZZwHaHa&pid=Api', 'datePublished': '2020-01-05T21:27:00.0000000Z', 'isFamilyFriendly': True, 'contentUrl': 'https://www.sippycupmom.com/wp-content/uploads/2017/09/NTBD-Exclusive-Bear.jpg', 'hostPageUrl': 'https://www.sippycupmom.com/celebrate-nationalteddybearday-teddy-bear-picnic/', 'contentSize': '5192202 B', 'encodingFormat': 'jpeg', 'hostPageDisplayUrl': 'https://www.sippycupmom.com/celebrate-nationalteddybearday-teddy-bear-picnic', 'width': 3525, 'height': 3525, 'hostPageDiscoveredDate': '2018-12-28T00:00:00.0000000Z', 'thumbnail': {'width': 474, 'height': 474}, 'imageInsightsToken': 'ccid_FL4vO5dE*cp_40ADD393AD5BB2DA31B5216F336414F8*mid_9CD3AD35BFBFE40EF90A8AB74809B38BB85A241A*simid_608050632113280367*thid_OIP.FL4vO5dEk70MBdq9US9ZZwHaHa', 'insightsMetadata': {'shoppingSourcesCount': 0, 'recipeSourcesCount': 0, 'pagesIncludingCount': 17, 'availableSizesCount': 16}, 'imageId': '9CD3AD35BFBFE40EF90A8AB74809B38BB85A241A', 'accentColor': 'B31828'},{'webSearchUrl': 'https://www.bing.com/images/search?view=detailv2&FORM=OIIRPO&q=teddy+bear&id=CB33AB55486A43051F04DB13E6CF1FC34F45BB83&simid=608020799269443513', 'name': 'Child Teddy Bear Cuddly Teddy Bear In 3 Sizes Brown - le ...', 'thumbnailUrl': 'https://tse1.mm.bing.net/th?id=OIP.NEmB1GOWAZu7Vlz4-Uh2xQHaHa&pid=Api', 'datePublished': '2021-02-15T15:19:00.0000000Z', 'isFamilyFriendly': True, 'contentUrl': 'https://home-and-fun.com/wp-content/uploads/2020/01/71R7o-i3wFL._SL1500_.jpg', 'hostPageUrl': 'https://home-and-fun.com/shop/home/child-teddy-bear-cuddly-teddy-bear-in-3-sizes-brown/', 'contentSize': '209282 B', 'encodingFormat': 'jpeg', 'hostPageDisplayUrl': 'https://home-and-fun.com/shop/home/child-teddy-bear-cuddly-teddy-bear-in-3-sizes-brown', 'width': 1500, 'height': 1500, 'hostPageDiscoveredDate': '2020-02-04T00:00:00.0000000Z', 'thumbnail': {'width': 474, 'height': 474}, 'imageInsightsToken': 'ccid_NEmB1GOW*cp_28FBAD248CBC4BE7A23BED4A2F7D4A77*mid_CB33AB55486A43051F04DB13E6CF1FC34F45BB83*simid_608020799269443513*thid_OIP.NEmB1GOWAZu7Vlz4-Uh2xQHaHa', 'insightsMetadata': {'pagesIncludingCount': 3, 'availableSizesCount': 2}, 'imageId': 'CB33AB55486A43051F04DB13E6CF1FC34F45BB83', 'accentColor': '933D15'},{'webSearchUrl': 'https://www.bing.com/images/search?view=detailv2&FORM=OIIRPO&q=teddy+bear&id=34B24AEE377BA49DC66BC997A6D5E735524D28BF&simid=608013905849571560', 'name': 'Holiday Time Plush Teddy Bear, Boy, 2018, Brown - Walmart ...', 'thumbnailUrl': 'https://tse2.mm.bing.net/th?id=OIP.Og2bDFrOxwbjm-gUg9mkvgHaHa&pid=Api', 'datePublished': '2021-03-04T00:04:00.0000000Z', 'isFamilyFriendly': True, 'contentUrl': 'https://i5.walmartimages.com/asr/4357d163-e12b-4ca8-85ca-a8cc8b8bf5ef_3.ee6037b81db955c7fb474b7115e482e0.jpeg', 'hostPageUrl': 'https://www.walmart.com/ip/Holiday-Time-Plush-Teddy-Bear-Boy-2018-Brown/844650364', 'contentSize': '684199 B', 'encodingFormat': 'jpeg', 'hostPageDisplayUrl': 'https://www.walmart.com/ip/Holiday-Time-Plush-Teddy-Bear-Boy-2018-Brown/844650364', 'width': 3000, 'height': 3000, 'hostPageFavIconUrl': 'https://www.bing.com/th?id=ODF.P6N5NQ9LMJRcZdDfIZbtiA&pid=Api', 'hostPageDomainFriendlyName': 'Walmart', 'hostPageDiscoveredDate': '2018-09-20T00:00:00.0000000Z', 'thumbnail': {'width': 474, 'height': 474}, 'imageInsightsToken': 'ccid_Og2bDFrO*cp_DC96E1D25E27C7467993D8F888D842E0*mid_34B24AEE377BA49DC66BC997A6D5E735524D28BF*simid_608013905849571560*thid_OIP.Og2bDFrOxwbjm-gUg9mkvgHaHa', 'insightsMetadata': {'shoppingSourcesCount': 1, 'recipeSourcesCount': 0, 'aggregateOffer': {'name': 'Holiday Time Plush Teddy Bear, Boy, 2018, Brown', 'priceCurrency': 'USD', 'lowPrice': 10.98, 'offerCount': 1}, 'pagesIncludingCount': 1, 'availableSizesCount': 2}, 'imageId': '34B24AEE377BA49DC66BC997A6D5E735524D28BF', 'accentColor': '108D68'},{'webSearchUrl': 'https://www.bing.com/images/search?view=detailv2&FORM=OIIRPO&q=teddy+bear&id=D7EA5C6C6F8501E8C44580DF5DD7011D3E3CEFC4&simid=608040504575684631', 'name': 'Oscar Teddy Bear 27cm - Beige', 'thumbnailUrl': 'https://tse2.mm.bing.net/th?id=OIP.yrthgbEwkXszXvEZ_03f1wHaHa&pid=Api', 'datePublished': '2020-07-17T07:07:00.0000000Z', 'isFamilyFriendly': True, 'contentUrl': 'https://www.onlinetoys.com.au/23673/oscar-teddy-bear-27cm-beige.jpg', 'hostPageUrl': 'https://www.onlinetoys.com.au/oscar-teddy-bear-27cm-beige.html', 'contentSize': '778021 B', 'encodingFormat': 'jpeg', 'hostPageDisplayUrl': 'https://www.onlinetoys.com.au/oscar-teddy-bear-27cm-beige.html', 'width': 2000, 'height': 2000, 'hostPageDiscoveredDate': '2017-03-21T00:00:00.0000000Z', 'thumbnail': {'width': 474, 'height': 474}, 'imageInsightsToken': 'ccid_yrthgbEw*cp_E9198B31F680D05DF92C0AE67351C46C*mid_D7EA5C6C6F8501E8C44580DF5DD7011D3E3CEFC4*simid_608040504575684631*thid_OIP.yrthgbEwkXszXvEZ!_03f1wHaHa', 'insightsMetadata': {'pagesIncludingCount': 1, 'availableSizesCount': 2}, 'imageId': 'D7EA5C6C6F8501E8C44580DF5DD7011D3E3CEFC4', 'accentColor': '270F0A'},{'webSearchUrl': 'https://www.bing.com/images/search?view=detailv2&FORM=OIIRPO&q=teddy+bear&id=61CCB1A35C2270A430536449071E86C111F4C1E0&simid=608028551684955327', 'name': 'SPECIAL DELIVERY – GIANT TEDDY BEARS FIT FOR A KING (OR ...', 'thumbnailUrl': 'https://tse2.mm.bing.net/th?id=OIP.G9twtup1F6LVuepy5vRTlQHaJr&pid=Api', 'datePublished': '2020-07-16T15:58:00.0000000Z', 'isFamilyFriendly': True, 'contentUrl': 'https://www.taylorherring.com/wp-content/uploads/2015/04/GiantTeddyBears-5-781x1020.jpg', 'hostPageUrl': 'https://www.taylorherring.com/special-delivery-giant-teddy-bears-fit-for-a-king-or-queen/', 'contentSize': '192808 B', 'encodingFormat': 'jpeg', 'hostPageDisplayUrl': 'https://www.taylorherring.com/special-delivery-giant-teddy-bears-fit-for-a-king-or-queen', 'width': 781, 'height': 1020, 'hostPageDiscoveredDate': '2019-10-15T00:00:00.0000000Z', 'thumbnail': {'width': 474, 'height': 619}, 'imageInsightsToken': 'ccid_G9twtup1*cp_F26B5AFC89F13AE53E1D78E8E855D766*mid_61CCB1A35C2270A430536449071E86C111F4C1E0*simid_608028551684955327*thid_OIP.G9twtup1F6LVuepy5vRTlQHaJr', 'insightsMetadata': {'pagesIncludingCount': 3, 'availableSizesCount': 1}, 'imageId': '61CCB1A35C2270A430536449071E86C111F4C1E0', 'accentColor': '058FC0'}]"
      ]
     },
     "execution_count": 62,
     "metadata": {},
     "output_type": "execute_result"
    }
   ],
   "source": [
    "# from fastbook import *\n",
    "# from fastai.vision.all import *\n",
    "# from fastai.vision.widgets import *\n",
    "\n",
    "# search_images_bing(key, 'teddy bear',max_images=10)"
   ]
  },
  {
   "cell_type": "code",
   "execution_count": 61,
   "metadata": {},
   "outputs": [
    {
     "name": "stdout",
     "output_type": "stream",
     "text": [
      "Help on function search_images_bing in module fastbook:\n",
      "\n",
      "search_images_bing(key, term, min_sz=128, max_images=150)\n",
      "\n"
     ]
    }
   ],
   "source": [
    "# help(search_images_bing)"
   ]
  },
  {
   "cell_type": "code",
   "execution_count": 36,
   "metadata": {
    "scrolled": true
   },
   "outputs": [
    {
     "name": "stdout",
     "output_type": "stream",
     "text": [
      "Requirement already satisfied: voila in c:\\users\\sharo\\anaconda3\\lib\\site-packages (0.3.0)\n",
      "Requirement already satisfied: websockets>=9.0 in c:\\users\\sharo\\anaconda3\\lib\\site-packages (from voila) (10.1)\n",
      "Requirement already satisfied: jupyter-client<8,>=6.1.3 in c:\\users\\sharo\\anaconda3\\lib\\site-packages (from voila) (6.1.12)\n",
      "Requirement already satisfied: nbconvert<7,>=6.0.0 in c:\\users\\sharo\\anaconda3\\lib\\site-packages (from voila) (6.4.0)\n",
      "Requirement already satisfied: nbclient<0.6,>=0.4.0 in c:\\users\\sharo\\anaconda3\\lib\\site-packages (from voila) (0.5.3)\n",
      "Requirement already satisfied: jupyter-server<2.0.0,>=0.3.0 in c:\\users\\sharo\\anaconda3\\lib\\site-packages (from voila) (1.4.1)\n",
      "Requirement already satisfied: python-dateutil>=2.1 in c:\\users\\sharo\\anaconda3\\lib\\site-packages (from jupyter-client<8,>=6.1.3->voila) (2.8.1)\n",
      "Requirement already satisfied: pyzmq>=13 in c:\\users\\sharo\\anaconda3\\lib\\site-packages (from jupyter-client<8,>=6.1.3->voila) (20.0.0)\n",
      "Requirement already satisfied: tornado>=4.1 in c:\\users\\sharo\\anaconda3\\lib\\site-packages (from jupyter-client<8,>=6.1.3->voila) (6.1)\n",
      "Requirement already satisfied: jupyter-core>=4.6.0 in c:\\users\\sharo\\anaconda3\\lib\\site-packages (from jupyter-client<8,>=6.1.3->voila) (4.7.1)\n",
      "Requirement already satisfied: traitlets in c:\\users\\sharo\\anaconda3\\lib\\site-packages (from jupyter-client<8,>=6.1.3->voila) (5.0.5)\n",
      "Requirement already satisfied: pywin32>=1.0 in c:\\users\\sharo\\anaconda3\\lib\\site-packages (from jupyter-core>=4.6.0->jupyter-client<8,>=6.1.3->voila) (227)\n",
      "Requirement already satisfied: nbformat in c:\\users\\sharo\\anaconda3\\lib\\site-packages (from jupyter-server<2.0.0,>=0.3.0->voila) (5.1.3)\n",
      "Requirement already satisfied: Send2Trash in c:\\users\\sharo\\anaconda3\\lib\\site-packages (from jupyter-server<2.0.0,>=0.3.0->voila) (1.5.0)\n",
      "Requirement already satisfied: ipython-genutils in c:\\users\\sharo\\anaconda3\\lib\\site-packages (from jupyter-server<2.0.0,>=0.3.0->voila) (0.2.0)\n",
      "Requirement already satisfied: anyio>=2.0.2 in c:\\users\\sharo\\anaconda3\\lib\\site-packages (from jupyter-server<2.0.0,>=0.3.0->voila) (2.2.0)\n",
      "Requirement already satisfied: jinja2 in c:\\users\\sharo\\anaconda3\\lib\\site-packages (from jupyter-server<2.0.0,>=0.3.0->voila) (2.11.3)\n",
      "Requirement already satisfied: terminado>=0.8.3 in c:\\users\\sharo\\anaconda3\\lib\\site-packages (from jupyter-server<2.0.0,>=0.3.0->voila) (0.9.4)\n",
      "Requirement already satisfied: prometheus-client in c:\\users\\sharo\\anaconda3\\lib\\site-packages (from jupyter-server<2.0.0,>=0.3.0->voila) (0.10.1)\n",
      "Requirement already satisfied: sniffio>=1.1 in c:\\users\\sharo\\anaconda3\\lib\\site-packages (from anyio>=2.0.2->jupyter-server<2.0.0,>=0.3.0->voila) (1.2.0)\n",
      "Requirement already satisfied: idna>=2.8 in c:\\users\\sharo\\anaconda3\\lib\\site-packages (from anyio>=2.0.2->jupyter-server<2.0.0,>=0.3.0->voila) (2.10)\n",
      "Requirement already satisfied: nest-asyncio in c:\\users\\sharo\\anaconda3\\lib\\site-packages (from nbclient<0.6,>=0.4.0->voila) (1.5.1)\n",
      "Requirement already satisfied: async-generator in c:\\users\\sharo\\anaconda3\\lib\\site-packages (from nbclient<0.6,>=0.4.0->voila) (1.10)\n",
      "Requirement already satisfied: testpath in c:\\users\\sharo\\anaconda3\\lib\\site-packages (from nbconvert<7,>=6.0.0->voila) (0.4.4)\n",
      "Requirement already satisfied: entrypoints>=0.2.2 in c:\\users\\sharo\\anaconda3\\lib\\site-packages (from nbconvert<7,>=6.0.0->voila) (0.3)\n",
      "Requirement already satisfied: jupyterlab-pygments in c:\\users\\sharo\\anaconda3\\lib\\site-packages (from nbconvert<7,>=6.0.0->voila) (0.1.2)\n",
      "Requirement already satisfied: pygments>=2.4.1 in c:\\users\\sharo\\anaconda3\\lib\\site-packages (from nbconvert<7,>=6.0.0->voila) (2.8.1)\n",
      "Requirement already satisfied: bleach in c:\\users\\sharo\\anaconda3\\lib\\site-packages (from nbconvert<7,>=6.0.0->voila) (3.3.0)\n",
      "Requirement already satisfied: mistune<2,>=0.8.1 in c:\\users\\sharo\\anaconda3\\lib\\site-packages (from nbconvert<7,>=6.0.0->voila) (0.8.4)\n",
      "Requirement already satisfied: defusedxml in c:\\users\\sharo\\anaconda3\\lib\\site-packages (from nbconvert<7,>=6.0.0->voila) (0.7.1)\n",
      "Requirement already satisfied: pandocfilters>=1.4.1 in c:\\users\\sharo\\anaconda3\\lib\\site-packages (from nbconvert<7,>=6.0.0->voila) (1.4.3)\n",
      "Requirement already satisfied: MarkupSafe>=0.23 in c:\\users\\sharo\\anaconda3\\lib\\site-packages (from jinja2->jupyter-server<2.0.0,>=0.3.0->voila) (1.1.1)\n",
      "Requirement already satisfied: jsonschema!=2.5.0,>=2.4 in c:\\users\\sharo\\anaconda3\\lib\\site-packages (from nbformat->jupyter-server<2.0.0,>=0.3.0->voila) (3.2.0)\n",
      "Requirement already satisfied: attrs>=17.4.0 in c:\\users\\sharo\\anaconda3\\lib\\site-packages (from jsonschema!=2.5.0,>=2.4->nbformat->jupyter-server<2.0.0,>=0.3.0->voila) (20.3.0)\n",
      "Requirement already satisfied: setuptools in c:\\users\\sharo\\anaconda3\\lib\\site-packages (from jsonschema!=2.5.0,>=2.4->nbformat->jupyter-server<2.0.0,>=0.3.0->voila) (52.0.0.post20210125)\n",
      "Requirement already satisfied: pyrsistent>=0.14.0 in c:\\users\\sharo\\anaconda3\\lib\\site-packages (from jsonschema!=2.5.0,>=2.4->nbformat->jupyter-server<2.0.0,>=0.3.0->voila) (0.17.3)\n",
      "Requirement already satisfied: six>=1.11.0 in c:\\users\\sharo\\anaconda3\\lib\\site-packages (from jsonschema!=2.5.0,>=2.4->nbformat->jupyter-server<2.0.0,>=0.3.0->voila) (1.15.0)\n",
      "Requirement already satisfied: pywinpty>=0.5 in c:\\users\\sharo\\anaconda3\\lib\\site-packages (from terminado>=0.8.3->jupyter-server<2.0.0,>=0.3.0->voila) (0.5.7)\n",
      "Requirement already satisfied: packaging in c:\\users\\sharo\\anaconda3\\lib\\site-packages (from bleach->nbconvert<7,>=6.0.0->voila) (20.9)\n",
      "Requirement already satisfied: webencodings in c:\\users\\sharo\\anaconda3\\lib\\site-packages (from bleach->nbconvert<7,>=6.0.0->voila) (0.5.1)\n",
      "Requirement already satisfied: pyparsing>=2.0.2 in c:\\users\\sharo\\anaconda3\\lib\\site-packages (from packaging->bleach->nbconvert<7,>=6.0.0->voila) (2.4.7)\n"
     ]
    },
    {
     "name": "stderr",
     "output_type": "stream",
     "text": [
      "Enabling: voila\n",
      "- Writing config: C:\\Users\\sharo\\anaconda3\\etc\\jupyter\n",
      "    - Validating...\n",
      "      voila 0.3.0 ok\n"
     ]
    }
   ],
   "source": [
    "#hide\n",
    "!pip install voila --debug\n",
    "!jupyter serverextension enable --sys-prefix voila "
   ]
  },
  {
   "cell_type": "code",
   "execution_count": 2,
   "metadata": {
    "id": "6GckRqG6g4hF"
   },
   "outputs": [],
   "source": [
    "#hide\n",
    "# !pip install -Uqq fastbook\n",
    "# import fastbook\n",
    "# fastbook.setup_book()"
   ]
  },
  {
   "cell_type": "code",
   "execution_count": null,
   "metadata": {},
   "outputs": [],
   "source": [
    "print(\"Marker 1\")"
   ]
  },
  {
   "cell_type": "code",
   "execution_count": 64,
   "metadata": {},
   "outputs": [],
   "source": [
    "import os"
   ]
  },
  {
   "cell_type": "code",
   "execution_count": 65,
   "metadata": {},
   "outputs": [
    {
     "name": "stdout",
     "output_type": "stream",
     "text": [
      "Marker 1A\n"
     ]
    }
   ],
   "source": [
    "print(\"Marker 1A\")"
   ]
  },
  {
   "cell_type": "code",
   "execution_count": null,
   "metadata": {},
   "outputs": [],
   "source": [
    "cwd = os.getcwd() # gets directory of docker environment\n",
    "# testfile = cwd + '/testfile.txt'\n",
    "# with open(testfile, 'w') as tf:\n",
    "#     tf.write('Hello World')\n",
    "\n",
    "# with open(testfile, 'r') as tf2:\n",
    "#     print(tf2.read())"
   ]
  },
  {
   "cell_type": "code",
   "execution_count": null,
   "metadata": {},
   "outputs": [],
   "source": [
    "print(\"Marker 1B\")"
   ]
  },
  {
   "cell_type": "code",
   "execution_count": null,
   "metadata": {},
   "outputs": [],
   "source": [
    "#sys.path.append(cwd)\n",
    "path = cwd"
   ]
  },
  {
   "cell_type": "code",
   "execution_count": null,
   "metadata": {},
   "outputs": [],
   "source": [
    "# path = Path()"
   ]
  },
  {
   "cell_type": "code",
   "execution_count": null,
   "metadata": {},
   "outputs": [],
   "source": [
    "print(\"Marker 1C\")"
   ]
  },
  {
   "cell_type": "code",
   "execution_count": 66,
   "metadata": {},
   "outputs": [
    {
     "name": "stdout",
     "output_type": "stream",
     "text": [
      "C:\\Users\\sharo\\source\\repos\\fastai_Apps\n"
     ]
    }
   ],
   "source": [
    "print(os.path.abspath(path))"
   ]
  },
  {
   "cell_type": "code",
   "execution_count": null,
   "metadata": {},
   "outputs": [],
   "source": [
    "print(\"Marker 2\")"
   ]
  },
  {
   "cell_type": "code",
   "execution_count": 37,
   "metadata": {
    "id": "YKx8nSvKg4hI"
   },
   "outputs": [],
   "source": [
    "#hide\n",
    "# from fastbook import *\n",
    "# from fastai.vision.widgets import *\n",
    "\n",
    "from fastbook import *\n",
    "from fastai.vision.all import *\n",
    "from fastai.vision.widgets import *"
   ]
  },
  {
   "cell_type": "code",
   "execution_count": null,
   "metadata": {},
   "outputs": [],
   "source": [
    "print(\"Marker 3\")"
   ]
  },
  {
   "cell_type": "code",
   "execution_count": 38,
   "metadata": {
    "id": "kFDiBS8Yg4hU"
   },
   "outputs": [],
   "source": [
    "import os\n",
    "key = os.environ.get('AZURE_SEARCH_KEY', '1afa7b4bdcd0457d8f700730b399e197')"
   ]
  },
  {
   "cell_type": "code",
   "execution_count": 39,
   "metadata": {
    "id": "xnWh7G5zg4hW"
   },
   "outputs": [],
   "source": [
    "bear_types = 'grizzly','black','teddy'\n",
    "path = Path('bears')"
   ]
  },
  {
   "cell_type": "code",
   "execution_count": 63,
   "metadata": {},
   "outputs": [
    {
     "name": "stdout",
     "output_type": "stream",
     "text": [
      "C:\\Users\\sharo\\source\\repos\\fastai_Apps\\bears\n"
     ]
    }
   ],
   "source": [
    "print(os.path.abspath(path))"
   ]
  },
  {
   "cell_type": "code",
   "execution_count": 19,
   "metadata": {
    "id": "SwTGeINUg4hW"
   },
   "outputs": [],
   "source": [
    "if not path.exists():\n",
    "    path.mkdir()\n",
    "    for o in bear_types:\n",
    "        dest = (path/o)\n",
    "        dest.mkdir(exist_ok=True)\n",
    "        results = search_images_bing(key, f'{o} bear')\n",
    "        download_images(dest, urls=results.attrgot('contentUrl'))"
   ]
  },
  {
   "cell_type": "code",
   "execution_count": null,
   "metadata": {},
   "outputs": [],
   "source": [
    "print(os.path.abspath(path))"
   ]
  },
  {
   "cell_type": "code",
   "execution_count": 40,
   "metadata": {
    "id": "N35Qo2phg4hX"
   },
   "outputs": [],
   "source": [
    "# fns = get_image_files(path)\n",
    "# # fns"
   ]
  },
  {
   "cell_type": "code",
   "execution_count": 41,
   "metadata": {
    "id": "Vnp0dygXg4hX"
   },
   "outputs": [],
   "source": [
    "# failed = verify_images(fns)\n",
    "# # failed"
   ]
  },
  {
   "cell_type": "code",
   "execution_count": 42,
   "metadata": {
    "id": "YIeqMtk-g4hX"
   },
   "outputs": [],
   "source": [
    "# failed.map(Path.unlink);"
   ]
  },
  {
   "cell_type": "markdown",
   "metadata": {
    "id": "muMJQbGyg4hY"
   },
   "source": [
    "## From Data to DataLoaders"
   ]
  },
  {
   "cell_type": "code",
   "execution_count": 23,
   "metadata": {
    "id": "TXHPLvsug4hY"
   },
   "outputs": [],
   "source": [
    "# bears = DataBlock(\n",
    "#     blocks=(ImageBlock, CategoryBlock), \n",
    "#     get_items=get_image_files, \n",
    "#     splitter=RandomSplitter(valid_pct=0.2, seed=42),\n",
    "#     get_y=parent_label,\n",
    "#     item_tfms=Resize(128))"
   ]
  },
  {
   "cell_type": "markdown",
   "metadata": {
    "id": "9wUhjGkwg4hZ"
   },
   "source": [
    "### Data Augmentation"
   ]
  },
  {
   "cell_type": "markdown",
   "metadata": {
    "id": "n9exhpfig4ha"
   },
   "source": [
    "## Training Your Model, and Using It to Clean Your Data"
   ]
  },
  {
   "cell_type": "code",
   "execution_count": 24,
   "metadata": {
    "id": "HxFbgMw4g4ha"
   },
   "outputs": [
    {
     "name": "stdout",
     "output_type": "stream",
     "text": [
      "Due to IPython and Windows limitation, python multiprocessing isn't available now.\n",
      "So `number_workers` is changed to 0 to avoid getting stuck\n"
     ]
    }
   ],
   "source": [
    "# bears = bears.new(\n",
    "#     item_tfms=RandomResizedCrop(224, min_scale=0.5),\n",
    "#     batch_tfms=aug_transforms())"
   ]
  },
  {
   "cell_type": "code",
   "execution_count": 47,
   "metadata": {},
   "outputs": [
    {
     "name": "stdout",
     "output_type": "stream",
     "text": [
      "Due to IPython and Windows limitation, python multiprocessing isn't available now.\n",
      "So `number_workers` is changed to 0 to avoid getting stuck\n"
     ]
    }
   ],
   "source": [
    "# dls = bears.dataloaders(path)"
   ]
  },
  {
   "cell_type": "code",
   "execution_count": 25,
   "metadata": {
    "id": "CMTr0sdAg4ha"
   },
   "outputs": [
    {
     "data": {
      "text/html": [
       "<table border=\"1\" class=\"dataframe\">\n",
       "  <thead>\n",
       "    <tr style=\"text-align: left;\">\n",
       "      <th>epoch</th>\n",
       "      <th>train_loss</th>\n",
       "      <th>valid_loss</th>\n",
       "      <th>error_rate</th>\n",
       "      <th>time</th>\n",
       "    </tr>\n",
       "  </thead>\n",
       "  <tbody>\n",
       "    <tr>\n",
       "      <td>0</td>\n",
       "      <td>1.780501</td>\n",
       "      <td>0.236932</td>\n",
       "      <td>0.086207</td>\n",
       "      <td>00:44</td>\n",
       "    </tr>\n",
       "  </tbody>\n",
       "</table>"
      ],
      "text/plain": [
       "<IPython.core.display.HTML object>"
      ]
     },
     "metadata": {},
     "output_type": "display_data"
    },
    {
     "data": {
      "text/html": [
       "<table border=\"1\" class=\"dataframe\">\n",
       "  <thead>\n",
       "    <tr style=\"text-align: left;\">\n",
       "      <th>epoch</th>\n",
       "      <th>train_loss</th>\n",
       "      <th>valid_loss</th>\n",
       "      <th>error_rate</th>\n",
       "      <th>time</th>\n",
       "    </tr>\n",
       "  </thead>\n",
       "  <tbody>\n",
       "    <tr>\n",
       "      <td>0</td>\n",
       "      <td>0.373975</td>\n",
       "      <td>0.064626</td>\n",
       "      <td>0.017241</td>\n",
       "      <td>00:49</td>\n",
       "    </tr>\n",
       "    <tr>\n",
       "      <td>1</td>\n",
       "      <td>0.321205</td>\n",
       "      <td>0.023707</td>\n",
       "      <td>0.000000</td>\n",
       "      <td>00:49</td>\n",
       "    </tr>\n",
       "    <tr>\n",
       "      <td>2</td>\n",
       "      <td>0.248741</td>\n",
       "      <td>0.026154</td>\n",
       "      <td>0.000000</td>\n",
       "      <td>00:51</td>\n",
       "    </tr>\n",
       "    <tr>\n",
       "      <td>3</td>\n",
       "      <td>0.201263</td>\n",
       "      <td>0.021704</td>\n",
       "      <td>0.000000</td>\n",
       "      <td>00:55</td>\n",
       "    </tr>\n",
       "  </tbody>\n",
       "</table>"
      ],
      "text/plain": [
       "<IPython.core.display.HTML object>"
      ]
     },
     "metadata": {},
     "output_type": "display_data"
    }
   ],
   "source": [
    "# learn = cnn_learner(dls, resnet18, metrics=error_rate)\n",
    "# learn.fine_tune(4)"
   ]
  },
  {
   "cell_type": "code",
   "execution_count": 26,
   "metadata": {
    "id": "2fWtkR0yg4hb"
   },
   "outputs": [
    {
     "data": {
      "text/html": [],
      "text/plain": [
       "<IPython.core.display.HTML object>"
      ]
     },
     "metadata": {},
     "output_type": "display_data"
    },
    {
     "data": {
      "text/html": [],
      "text/plain": [
       "<IPython.core.display.HTML object>"
      ]
     },
     "metadata": {},
     "output_type": "display_data"
    }
   ],
   "source": [
    "# cleaner = ImageClassifierCleaner(learn)"
   ]
  },
  {
   "cell_type": "markdown",
   "metadata": {
    "id": "jMrCl3Img4hb"
   },
   "source": [
    "## Turning Your Model into an Online Application"
   ]
  },
  {
   "cell_type": "markdown",
   "metadata": {
    "id": "lsutpqKtg4hb"
   },
   "source": [
    "### Using the Model for Inference"
   ]
  },
  {
   "cell_type": "code",
   "execution_count": 27,
   "metadata": {},
   "outputs": [],
   "source": [
    "# learn.export()"
   ]
  },
  {
   "cell_type": "code",
   "execution_count": 28,
   "metadata": {},
   "outputs": [],
   "source": [
    "# path = Path()\n",
    "# learn_inf = load_learner(path/'export.pkl', cpu=True)"
   ]
  },
  {
   "cell_type": "markdown",
   "metadata": {
    "id": "dXeYHywpg4hd"
   },
   "source": [
    "### Creating a Notebook App from the Model"
   ]
  },
  {
   "cell_type": "code",
   "execution_count": 29,
   "metadata": {
    "id": "fZJV4C8ig4hd"
   },
   "outputs": [],
   "source": [
    "# btn_upload = widgets.FileUpload()"
   ]
  },
  {
   "cell_type": "code",
   "execution_count": 30,
   "metadata": {
    "id": "dwD-Rux_g4he"
   },
   "outputs": [],
   "source": [
    "# out_pl = widgets.Output()"
   ]
  },
  {
   "cell_type": "code",
   "execution_count": 31,
   "metadata": {
    "id": "XMpigc_Yg4hf"
   },
   "outputs": [],
   "source": [
    "# lbl_pred = widgets.Label()"
   ]
  },
  {
   "cell_type": "code",
   "execution_count": 32,
   "metadata": {
    "id": "iOE28NMxg4hf"
   },
   "outputs": [],
   "source": [
    "# btn_run = widgets.Button(description='Classify')"
   ]
  },
  {
   "cell_type": "code",
   "execution_count": 33,
   "metadata": {
    "id": "D0dAKP5Vg4hg"
   },
   "outputs": [],
   "source": [
    "# def on_click_classify(change):\n",
    "#     img = PILImage.create(btn_upload.data[-1])\n",
    "#     out_pl.clear_output()\n",
    "#     with out_pl: display(img.to_thumb(128,128))\n",
    "#     pred,pred_idx,probs = learn.predict(img)\n",
    "#     lbl_pred.value = f'Prediction: {pred}; Probability: {probs[pred_idx]:.04f}'\n",
    "\n",
    "# btn_run.on_click(on_click_classify)"
   ]
  },
  {
   "cell_type": "code",
   "execution_count": 34,
   "metadata": {
    "id": "--O3jtUIg4hg"
   },
   "outputs": [],
   "source": [
    "# #hide\n",
    "# #Putting back btn_upload to a widget for next cell\n",
    "# btn_upload = widgets.FileUpload()"
   ]
  },
  {
   "cell_type": "code",
   "execution_count": 35,
   "metadata": {
    "id": "phfIM_DTg4hg"
   },
   "outputs": [
    {
     "data": {
      "application/vnd.jupyter.widget-view+json": {
       "model_id": "cc8ad419b1d3433cb458d7fa8700eb6d",
       "version_major": 2,
       "version_minor": 0
      },
      "text/plain": [
       "VBox(children=(Label(value='Select your bear!'), FileUpload(value={}, description='Upload'), Button(descriptio…"
      ]
     },
     "metadata": {},
     "output_type": "display_data"
    },
    {
     "data": {
      "text/html": [],
      "text/plain": [
       "<IPython.core.display.HTML object>"
      ]
     },
     "metadata": {},
     "output_type": "display_data"
    }
   ],
   "source": [
    "# VBox([widgets.Label('Select your bear!'), \n",
    "#       btn_upload, btn_run, out_pl, lbl_pred])"
   ]
  }
 ],
 "metadata": {
  "colab": {
   "name": "02_production.ipynb",
   "provenance": []
  },
  "jupytext": {
   "split_at_heading": true
  },
  "kernelspec": {
   "display_name": "Python 3",
   "language": "python",
   "name": "python3"
  },
  "language_info": {
   "codemirror_mode": {
    "name": "ipython",
    "version": 3
   },
   "file_extension": ".py",
   "mimetype": "text/x-python",
   "name": "python",
   "nbconvert_exporter": "python",
   "pygments_lexer": "ipython3",
   "version": "3.8.8"
  }
 },
 "nbformat": 4,
 "nbformat_minor": 1
}
